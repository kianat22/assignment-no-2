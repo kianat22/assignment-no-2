{
  "nbformat": 4,
  "nbformat_minor": 0,
  "metadata": {
    "colab": {
      "provenance": [],
      "authorship_tag": "ABX9TyPcvs78s7jJn4rAkim4z1Cw",
      "include_colab_link": true
    },
    "kernelspec": {
      "name": "python3",
      "display_name": "Python 3"
    },
    "language_info": {
      "name": "python"
    }
  },
  "cells": [
    {
      "cell_type": "markdown",
      "metadata": {
        "id": "view-in-github",
        "colab_type": "text"
      },
      "source": [
        "<a href=\"https://colab.research.google.com/github/kianat22/assignment-no-2/blob/main/untitled7.ipynb\" target=\"_parent\"><img src=\"https://colab.research.google.com/assets/colab-badge.svg\" alt=\"Open In Colab\"/></a>"
      ]
    },
    {
      "cell_type": "markdown",
      "source": [],
      "metadata": {
        "id": "ORGWR-36PAwR"
      }
    },
    {
      "cell_type": "markdown",
      "source": [
        "4-11. My Pizzas, Your Pizzas: Start with your program from Exercise 4-1\n",
        "(page 60). Make a copy of the list of pizzas, and call it friend_pizzas.\n",
        "Then, do the following:\n",
        "•\t Add a new pizza to the original list.\n",
        "•\t Add a different pizza to the list friend_pizzas.\n",
        "•\t Prove that you have two separate lists. Print the message, My favorite\n",
        "pizzas are:, and then use a for loop to print the first list. Print the message,\n",
        "My friend’s favorite pizzas are:, and then use a for loop to print the second list. Make sure each new pizza is stored in the appropriate list."
      ],
      "metadata": {
        "id": "DwTxqx2iPCwm"
      }
    },
    {
      "cell_type": "code",
      "source": [
        "kianat_pizza_list = [\"Cheese Pizza\", \"chicken Pizza\", \"Veggie Pizza\"]\n",
        "for pizza in kianat_pizza_list:\n",
        "    print(\"I like \"+ pizza.title() + \"!\")\n",
        "\n",
        "friend_pizza = kianat_pizza_list[:]\n",
        "\n",
        "kianat_pizza_list.append(\"meat pizza\")\n",
        "friend_pizza.append(\"fajita pizza\")\n",
        "\n",
        "print(\"\\nMy favorite pizzas are:\")\n",
        "for pizza in kianat_pizza_list:\n",
        "    print(\"- \" + pizza)\n",
        "\n",
        "print(\"\\nMy friend's favorite pizzas are:\")\n",
        "for pizza in friend_pizza:\n",
        "    print(\"- \" + pizza)"
      ],
      "metadata": {
        "colab": {
          "base_uri": "https://localhost:8080/"
        },
        "id": "tzVlo2BTPEF_",
        "outputId": "1dc4f6d4-c7e5-4a99-9b28-9b6f935c873f"
      },
      "execution_count": null,
      "outputs": [
        {
          "output_type": "stream",
          "name": "stdout",
          "text": [
            "I like Cheese Pizza!\n",
            "I like Chicken Pizza!\n",
            "I like Veggie Pizza!\n",
            "\n",
            "My favorite pizzas are:\n",
            "- Cheese Pizza\n",
            "- chicken Pizza\n",
            "- Veggie Pizza\n",
            "- meat pizza\n",
            "\n",
            "My friend's favorite pizzas are:\n",
            "- Cheese Pizza\n",
            "- chicken Pizza\n",
            "- Veggie Pizza\n",
            "- fajita pizza\n"
          ]
        }
      ]
    },
    {
      "cell_type": "markdown",
      "source": [
        "4-13. Buffet: A buffet-style restaurant offers only five basic foods. Think of five\n",
        "simple foods, and store them in a tuple.\n",
        "•\t Use a for loop to print each food the restaurant offers.\n",
        "•\t Try to modify one of the items, and make sure that Python rejects the\n",
        "change.\n",
        "•\t The restaurant changes its menu, replacing two of the items with different\n",
        "foods. Add a block of code that rewrites the tuple, and then use a for\n",
        "loop to print each of the items on the revised menu."
      ],
      "metadata": {
        "id": "syH_mv4FSFGd"
      }
    },
    {
      "cell_type": "code",
      "source": [
        "kianat_menu_items = ('soup', 'Biryani', 'ice ream','roti', 'fish' )\n",
        "\n",
        "print(\"You can choose from thE menu\")\n",
        "for item in kianat_menu_items:\n",
        "    print(\"- \" + item)\n",
        "\n",
        "\n",
        "kianat_menu_items = ('soup', 'Biryani', 'Kebab','Roti', 'fish' )\n",
        "\n",
        "print(\"\\nMenu has been updated\")\n",
        "print(\"\\nNow you can choose from the menu list:\")\n",
        "for item in kianat_menu_items:\n",
        "    print(\"- \" + item)"
      ],
      "metadata": {
        "colab": {
          "base_uri": "https://localhost:8080/"
        },
        "id": "JMuTNrXSSPlS",
        "outputId": "b1fc9d4a-d70b-4186-a4c1-1a37c1541a58"
      },
      "execution_count": null,
      "outputs": [
        {
          "output_type": "stream",
          "name": "stdout",
          "text": [
            "You can choose from thE menu\n",
            "- soup\n",
            "- Biryani\n",
            "- ice ream\n",
            "- roti\n",
            "- fish\n",
            "\n",
            "Menu has been updated\n",
            "\n",
            "Now you can choose from the menu list:\n",
            "- soup\n",
            "- Biryani\n",
            "- Kebab\n",
            "- Roti\n",
            "- fish\n"
          ]
        }
      ]
    },
    {
      "cell_type": "markdown",
      "source": [
        "5.2More Conditional Tests: You don’t have to limit the number of tests you create to 10 . If you want to try more comparisons, write more tests and add them to conditional_tests.py . Have at least one True and one False result for each of the following: Part1 Tests for equality and inequality with strings Part2 Tests using the lower() function Part3 Numerical tests involving equality and inequality, greater than and less than, greater than or equal to, and less than or equal to Part4 Tests using the and keyword and the or keyword Part5 Test whether an item is in a list Part6 Test whether an item is not in a list\n",
        "\n"
      ],
      "metadata": {
        "id": "vXm_UQKDZohI"
      }
    },
    {
      "cell_type": "code",
      "source": [
        "#Equality Check\n",
        "kianat_house='my-room'\n",
        "kianat_house=='my-room'"
      ],
      "metadata": {
        "colab": {
          "base_uri": "https://localhost:8080/"
        },
        "id": "w6j55siuaCnh",
        "outputId": "a80173aa-3373-4c70-aa79-fe8b7c7990ed"
      },
      "execution_count": null,
      "outputs": [
        {
          "output_type": "execute_result",
          "data": {
            "text/plain": [
              "True"
            ]
          },
          "metadata": {},
          "execution_count": 13
        }
      ]
    },
    {
      "cell_type": "code",
      "source": [
        "#Inequality Check\n",
        "kianat_house='my-room'\n",
        "kianat_house=='kitchen'"
      ],
      "metadata": {
        "colab": {
          "base_uri": "https://localhost:8080/"
        },
        "id": "48AaPA05biz_",
        "outputId": "009113c7-fe0f-4961-81b9-e4fd85ab7ac1"
      },
      "execution_count": null,
      "outputs": [
        {
          "output_type": "execute_result",
          "data": {
            "text/plain": [
              "False"
            ]
          },
          "metadata": {},
          "execution_count": 14
        }
      ]
    },
    {
      "cell_type": "code",
      "source": [
        "#Lower Function\n",
        "kianat_house='Kitchen'\n",
        "kianat_house.lower()=='kitchen'"
      ],
      "metadata": {
        "colab": {
          "base_uri": "https://localhost:8080/"
        },
        "id": "6M21eod8bxCC",
        "outputId": "e89e043f-77e4-4235-cdae-3106c6c04557"
      },
      "execution_count": null,
      "outputs": [
        {
          "output_type": "execute_result",
          "data": {
            "text/plain": [
              "True"
            ]
          },
          "metadata": {},
          "execution_count": 9
        }
      ]
    },
    {
      "cell_type": "code",
      "source": [
        "#Numerical Equality\n",
        "kianat_age=25\n",
        "kianat_age==25\n",
        "     \n"
      ],
      "metadata": {
        "colab": {
          "base_uri": "https://localhost:8080/"
        },
        "id": "RR5aeAwHcJ_0",
        "outputId": "894c47bc-07cf-456d-9f4e-5f77a747b68a"
      },
      "execution_count": null,
      "outputs": [
        {
          "output_type": "execute_result",
          "data": {
            "text/plain": [
              "True"
            ]
          },
          "metadata": {},
          "execution_count": 11
        }
      ]
    },
    {
      "cell_type": "code",
      "source": [
        "#Numerical Inequality\n",
        "kianat_entry=7\n",
        "if kianat_entry !=25:\n",
        "  print(\"Incorrect Answer. Please try again!\")"
      ],
      "metadata": {
        "colab": {
          "base_uri": "https://localhost:8080/"
        },
        "id": "uWd8dQtYcZxB",
        "outputId": "1772ee06-32ae-445a-aa7b-d9c897780141"
      },
      "execution_count": null,
      "outputs": [
        {
          "output_type": "stream",
          "name": "stdout",
          "text": [
            "Incorrect Answer. Please try again!\n"
          ]
        }
      ]
    },
    {
      "cell_type": "code",
      "source": [
        "#Numerical Greater than \n",
        "kianat_digit=25\n",
        "kianat_digit>20"
      ],
      "metadata": {
        "colab": {
          "base_uri": "https://localhost:8080/"
        },
        "id": "oDCK-I2Oc8wO",
        "outputId": "3de0504e-abdb-4643-fdb4-5904f67d335e"
      },
      "execution_count": null,
      "outputs": [
        {
          "output_type": "execute_result",
          "data": {
            "text/plain": [
              "True"
            ]
          },
          "metadata": {},
          "execution_count": 16
        }
      ]
    },
    {
      "cell_type": "code",
      "source": [
        "#Numerical Less than\n",
        "kianat_digit=25\n",
        "kianat_digit<12"
      ],
      "metadata": {
        "colab": {
          "base_uri": "https://localhost:8080/"
        },
        "id": "NyfG3RRIdLZL",
        "outputId": "dc49ce8b-47e1-4af2-cecb-2f360451ceaf"
      },
      "execution_count": null,
      "outputs": [
        {
          "output_type": "execute_result",
          "data": {
            "text/plain": [
              "False"
            ]
          },
          "metadata": {},
          "execution_count": 17
        }
      ]
    },
    {
      "cell_type": "code",
      "source": [
        "#Numerical Greater than equal to\n",
        "kianat_digit=25\n",
        "kianat_digit>=23\n",
        "     "
      ],
      "metadata": {
        "colab": {
          "base_uri": "https://localhost:8080/"
        },
        "id": "y7YUAH-edkjb",
        "outputId": "06d647ff-1a8d-439a-a7fb-96ea031bc177"
      },
      "execution_count": null,
      "outputs": [
        {
          "output_type": "execute_result",
          "data": {
            "text/plain": [
              "True"
            ]
          },
          "metadata": {},
          "execution_count": 18
        }
      ]
    },
    {
      "cell_type": "code",
      "source": [
        "#Numerical Less than equal to \n",
        "kianat_digit=33\n",
        "kianat_digit<=10"
      ],
      "metadata": {
        "colab": {
          "base_uri": "https://localhost:8080/"
        },
        "id": "_U4vfoERd6xL",
        "outputId": "9c6db6f9-6eab-4111-abbb-0de520c5399b"
      },
      "execution_count": null,
      "outputs": [
        {
          "output_type": "execute_result",
          "data": {
            "text/plain": [
              "False"
            ]
          },
          "metadata": {},
          "execution_count": 19
        }
      ]
    },
    {
      "cell_type": "code",
      "source": [
        "#And Keyword\n",
        "kianat_digit_1=34\n",
        "kianat_digit_2=25\n",
        "kianat_digit_1>= 30 and kianat_digit_2<=30"
      ],
      "metadata": {
        "colab": {
          "base_uri": "https://localhost:8080/"
        },
        "id": "O8qSXYKIeKCd",
        "outputId": "f4147d94-b97b-412c-913c-be3cfbb5e024"
      },
      "execution_count": null,
      "outputs": [
        {
          "output_type": "execute_result",
          "data": {
            "text/plain": [
              "True"
            ]
          },
          "metadata": {},
          "execution_count": 22
        }
      ]
    },
    {
      "cell_type": "code",
      "source": [
        "#Item in list\n",
        "kianat_list=['bike','car','cycle','scooty']\n",
        "'car' in kianat_list\n",
        "     "
      ],
      "metadata": {
        "colab": {
          "base_uri": "https://localhost:8080/"
        },
        "id": "AXSANyn0jMdd",
        "outputId": "7bb5bfff-4e7a-4e0d-ec50-41442aebd687"
      },
      "execution_count": null,
      "outputs": [
        {
          "output_type": "execute_result",
          "data": {
            "text/plain": [
              "True"
            ]
          },
          "metadata": {},
          "execution_count": 23
        }
      ]
    },
    {
      "cell_type": "code",
      "source": [
        "#Item is not in list\n",
        "kianat_list=['bike','car','cycle','acooty']\n",
        "'truck' in kianat_list\n",
        "     "
      ],
      "metadata": {
        "colab": {
          "base_uri": "https://localhost:8080/"
        },
        "id": "xD4k0kw8jddt",
        "outputId": "58318e72-2273-4578-d946-226fe3cf1ea4"
      },
      "execution_count": null,
      "outputs": [
        {
          "output_type": "execute_result",
          "data": {
            "text/plain": [
              "False"
            ]
          },
          "metadata": {},
          "execution_count": 24
        }
      ]
    },
    {
      "cell_type": "markdown",
      "source": [
        "6-3. Glossary: A Python dictionary can be used to model an actual dictionary . However, to avoid confusion, let’s call it a glossary . Part1 Think of five programming words you’ve learned about in the previous chapters . Use these words as the keys in your glossary, and store their meanings as values . Part2 Print each word and its meaning as neatly formatted output . You might print the word followed by a colon and then its meaning, or print the word on one line and then print its meaning indented on a second line . Use the newline character (\\n) to insert a blank line between each word-meaning pair in your output ."
      ],
      "metadata": {
        "id": "iR2OSxr5jjjM"
      }
    },
    {
      "cell_type": "code",
      "source": [
        "kianat_langauges={\n",
        "                 'int':'integer values which contain whole numbers',\n",
        "                 'float':'real Values',\n",
        "                 'char':'a single character',\n",
        "                 'string':'collection of characters',\n",
        "                 'bool':'bolean values which are true or false'\n",
        "                 }\n",
        "for key, value in kianat_langauges.items():\n",
        "  print(key+ \": Means \"+value.title())\n",
        "  print('\\n')"
      ],
      "metadata": {
        "colab": {
          "base_uri": "https://localhost:8080/"
        },
        "id": "Nr8hHhfBj_8R",
        "outputId": "8e123df0-9cf2-4a60-80c5-885c3ca64529"
      },
      "execution_count": null,
      "outputs": [
        {
          "output_type": "stream",
          "name": "stdout",
          "text": [
            "int: Means Integer Values Which Contain Whole Numbers\n",
            "\n",
            "\n",
            "float: Means Real Values\n",
            "\n",
            "\n",
            "char: Means A Single Character\n",
            "\n",
            "\n",
            "string: Means Collection Of Characters\n",
            "\n",
            "\n",
            "bool: Means Bolean Values Which Are True Or False\n",
            "\n",
            "\n"
          ]
        }
      ]
    },
    {
      "cell_type": "code",
      "source": [],
      "metadata": {
        "id": "ZKmDgbm7jzie"
      },
      "execution_count": null,
      "outputs": []
    },
    {
      "cell_type": "markdown",
      "source": [
        "6-11. Cities: Make a dictionary called cities Use the names of three cities as keys in your dictionary Create a dictionary of information about each city and include the country that the city is in, its approximate population, and one fact about that city The keys for each city’s dictionary should be something like country, population, and fact Print the name of each city and all of the information you have stored about it"
      ],
      "metadata": {
        "id": "4UNlmD4DmJ2H"
      }
    },
    {
      "cell_type": "code",
      "source": [
        "cities_kianat = {'lahore':{'Country':'Pakistan', 'Population':'ten lac', 'Facts':' city of saints.'},\n",
        "'karachi':{'Country':'Pakistan', 'Population':'one billion', 'Facts':' a major centre of Qawwali music.'}, 'Islamabad':{'Country':'Pakistan', 'Population':'ten billion', 'Facts': ' capital of Pakistan.'}}\n",
        "for city, city_info in cities_kianat.items():\n",
        "    Country = city_info['Country']\n",
        "    Population= city_info['Population']\n",
        "    Facts= city_info['Facts']\n",
        "    print(\"\\n\"+ city + \" is in \" + Country)\n",
        "    print(\"\\n\"+ city + \" has population of \" + Population)\n",
        "    print(\"\\n\"+ city + \" major fact is \" + Facts+ '\\n')"
      ],
      "metadata": {
        "colab": {
          "base_uri": "https://localhost:8080/"
        },
        "id": "SrpX16A7mLUZ",
        "outputId": "4532ebea-2c6e-4c33-a6a2-f01b781226e9"
      },
      "execution_count": null,
      "outputs": [
        {
          "output_type": "stream",
          "name": "stdout",
          "text": [
            "\n",
            "lahore is in Pakistan\n",
            "\n",
            "lahore has population of ten lac\n",
            "\n",
            "lahore major fact is  city of saints.\n",
            "\n",
            "\n",
            "karachi is in Pakistan\n",
            "\n",
            "karachi has population of one billion\n",
            "\n",
            "karachi major fact is  a major centre of Qawwali music.\n",
            "\n",
            "\n",
            "Islamabad is in Pakistan\n",
            "\n",
            "Islamabad has population of ten billion\n",
            "\n",
            "Islamabad major fact is  capital of Pakistan.\n",
            "\n"
          ]
        }
      ]
    }
  ]
}